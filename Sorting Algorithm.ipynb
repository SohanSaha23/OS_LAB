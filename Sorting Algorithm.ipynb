{
 "cells": [
  {
   "cell_type": "code",
   "execution_count": 6,
   "id": "aa3803f9",
   "metadata": {},
   "outputs": [
    {
     "name": "stdout",
     "output_type": "stream",
     "text": [
      "How many numbers do you want to enter? 10\n",
      "Enter number 1: 10\n",
      "Enter number 2: 9\n",
      "Enter number 3: 8\n",
      "Enter number 4: 7\n",
      "Enter number 5: 6\n",
      "Enter number 6: 5\n",
      "Enter number 7: 4\n",
      "Enter number 8: 3\n",
      "Enter number 9: 2\n",
      "Enter number 10: 1\n",
      "The sorted numbers are: [1, 2, 3, 4, 5, 6, 7, 8, 9, 10]\n"
     ]
    }
   ],
   "source": [
    "numbers = []\n",
    "for i in range(int(input(\"How many numbers do you want to enter? \"))):\n",
    "    number = int(input(\"Enter number {}: \".format(i + 1)))\n",
    "    numbers.append(number)\n",
    "for i in range(len(numbers) - 1):\n",
    "    for j in range(i + 1, len(numbers)):\n",
    "        if numbers[i] > numbers[j]:\n",
    "            numbers[i], numbers[j] = numbers[j], numbers[i]\n",
    "print(\"The sorted numbers are:\", numbers)"
   ]
  },
  {
   "cell_type": "code",
   "execution_count": null,
   "id": "15926e0a",
   "metadata": {},
   "outputs": [],
   "source": []
  }
 ],
 "metadata": {
  "kernelspec": {
   "display_name": "Python 3 (ipykernel)",
   "language": "python",
   "name": "python3"
  },
  "language_info": {
   "codemirror_mode": {
    "name": "ipython",
    "version": 3
   },
   "file_extension": ".py",
   "mimetype": "text/x-python",
   "name": "python",
   "nbconvert_exporter": "python",
   "pygments_lexer": "ipython3",
   "version": "3.9.12"
  }
 },
 "nbformat": 4,
 "nbformat_minor": 5
}
