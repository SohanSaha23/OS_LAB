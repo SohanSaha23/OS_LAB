{
 "cells": [
  {
   "cell_type": "code",
   "execution_count": 18,
   "id": "9c1a28ae",
   "metadata": {},
   "outputs": [
    {
     "name": "stdout",
     "output_type": "stream",
     "text": [
      "enter a no:4\n",
      "enter a no:8\n",
      "sum= 12.0\n"
     ]
    }
   ],
   "source": [
    "def add_numbers(a: int,b :int):\n",
    "    return a+b\n",
    "a=int(input(\"enter a no:\"))\n",
    "b=float(input(\"enter a no:\"))\n",
    "\n",
    "print(\"sum=\",add_numbers(a,b))"
   ]
  },
  {
   "cell_type": "code",
   "execution_count": 16,
   "id": "5d0d5316",
   "metadata": {},
   "outputs": [
    {
     "name": "stdout",
     "output_type": "stream",
     "text": [
      " Process No. Process Size      Block no.\n",
      "  1           212           Not Allocated\n",
      "  2           417           Not Allocated\n",
      "  3           112           Not Allocated\n",
      "  4           426           Not Allocated\n"
     ]
    }
   ],
   "source": [
    "# Python3 implementation of First-Fit algorithm\n",
    "\n",
    "def firstFit(blockSize, m, processSize, n):\n",
    "     \n",
    "\n",
    "    allocation = [-1] * n\n",
    " \n",
    "    for i in range(n):\n",
    "        for j in range(m):\n",
    "            if blockSize[j] >= processSize[i]:\n",
    "                 \n",
    "                # allocate block j to p[i] process\n",
    "                allocation[i] = j\n",
    " \n",
    "                # Reduce available memory in this block.\n",
    "                blockSize[j] -= processSize[i]\n",
    " \n",
    "                break\n",
    " \n",
    "    print(\" Process No. Process Size      Block no.\")\n",
    "    for i in range(n):\n",
    "        print(\" \", i + 1, \"         \", processSize[i],\n",
    "                          \"         \", end = \" \")\n",
    "        if allocation[i] !=-1 :\n",
    "            print(allocation[i] + 1)\n",
    "        else:\n",
    "            print(\"Not Allocated\")\n",
    " \n",
    "# Driver code\n",
    "if __name__ == '__main__':\n",
    "    blockSize = [0,0, 0, 0]\n",
    "    processSize = [212, 417, 112, 426]\n",
    "    m = len(blockSize)\n",
    "    n = len(processSize)\n",
    " \n",
    "    firstFit(blockSize, m, processSize, n)"
   ]
  },
  {
   "cell_type": "code",
   "execution_count": null,
   "id": "a16ceea0",
   "metadata": {},
   "outputs": [],
   "source": []
  }
 ],
 "metadata": {
  "kernelspec": {
   "display_name": "Python 3 (ipykernel)",
   "language": "python",
   "name": "python3"
  },
  "language_info": {
   "codemirror_mode": {
    "name": "ipython",
    "version": 3
   },
   "file_extension": ".py",
   "mimetype": "text/x-python",
   "name": "python",
   "nbconvert_exporter": "python",
   "pygments_lexer": "ipython3",
   "version": "3.9.12"
  }
 },
 "nbformat": 4,
 "nbformat_minor": 5
}
